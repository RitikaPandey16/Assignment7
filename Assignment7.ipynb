{
 "cells": [
  {
   "cell_type": "code",
   "execution_count": 12,
   "id": "de7a9213-7c6a-47c0-9906-3c05f92f89f8",
   "metadata": {},
   "outputs": [
    {
     "name": "stdout",
     "output_type": "stream",
     "text": [
      "0\n"
     ]
    }
   ],
   "source": [
    "#Q1. Create a function which will take a list as an argument and return the product of all the numbers\n",
    "    #after creating a flat list.\n",
    "    #Use the below-given list as an argument for your function.\n",
    "    #list1 = [1,2,3,4, [44,55,66, True], False, (34,56,78,89,34), {1,2,3,3,2,1}, {1:34, \"key2\": [55, 67, 78, 89], 4: (45,\n",
    "    #22, 61, 34)}, [56, 'data science'], 'Machine Learning']\n",
    "    #Note: you must extract numeric keys and values of the dictionary also.\n",
    "\n",
    "import math\n",
    "\n",
    "def flatten_and_multiply(input_list):\n",
    "    # Initialize a list to store all numbers\n",
    "    numbers = []\n",
    "\n",
    "    # Helper function to recursively flatten and extract numbers\n",
    "    def extract_numbers(item):\n",
    "        if isinstance(item, (int, float)):  # If it's a number, add it to the list\n",
    "            numbers.append(item)\n",
    "        elif isinstance(item, list):  # If it's a list, recurse into it\n",
    "            for sub_item in item:\n",
    "                extract_numbers(sub_item)\n",
    "        elif isinstance(item, tuple):  # If it's a tuple, recurse into it\n",
    "            for sub_item in item:\n",
    "                extract_numbers(sub_item)\n",
    "        elif isinstance(item, set):  # If it's a set, recurse into it\n",
    "            for sub_item in item:\n",
    "                extract_numbers(sub_item)\n",
    "        elif isinstance(item, dict):  # If it's a dictionary, check the keys and values\n",
    "            for key, value in item.items():\n",
    "                if isinstance(key, (int, float)):\n",
    "                    numbers.append(key)\n",
    "                extract_numbers(value)\n",
    "\n",
    "    # Flatten the input list\n",
    "    for item in input_list:\n",
    "        extract_numbers(item)\n",
    "\n",
    "    # Compute the product of all numbers\n",
    "    product = math.prod(numbers)\n",
    "\n",
    "    return product\n",
    "\n",
    "# Given list\n",
    "list1 = [1, 2, 3, 4, [44, 55, 66, True], False, (34, 56, 78, 89, 34), {1, 2, 3, 3, 2, 1}, {1: 34, \"key2\": [55, 67, 78, 89], 4: (45, 22, 61, 34)}, [56, 'data science'], 'Machine Learning']\n",
    "\n",
    "# Call the function and print the result\n",
    "print(flatten_and_multiply(list1))\n"
   ]
  },
  {
   "cell_type": "code",
   "execution_count": 14,
   "id": "a61afedf-5e57-48b0-869a-9589bebe8e8a",
   "metadata": {},
   "outputs": [
    {
     "name": "stdout",
     "output_type": "stream",
     "text": [
      "Encrypted Message: r$dzmg$gl$yvxlnv$z$wzgz$hxrvmgrhg.\n"
     ]
    }
   ],
   "source": [
    "#Q2.Q2. Write a python program for encrypting a message sent to you by your friend. The logic of encryption\n",
    "#should be such that, for a the output should be z. For b, the output should be y. For c, the output should\n",
    "#be x respectively. Also, the whitespace should be replaced with a dollar sign. Keep the punctuation\n",
    "#marks unchanged.\n",
    "#Input Sentence: I want to become a Data Scientist.\n",
    "#Encrypt the above input sentence using the program you just created.\n",
    "#Note: Convert the given input sentence into lowercase before encrypting. The final output should be lowercase.\n",
    "def encrypt_message(sentence):\n",
    "    # Convert the sentence to lowercase\n",
    "    sentence = sentence.lower()\n",
    "    \n",
    "    encrypted_message = \"\"\n",
    "    \n",
    "    # Iterate over each character in the sentence\n",
    "    for char in sentence:\n",
    "        if char.isalpha():  # If it's a letter, apply the transformation\n",
    "            # Find the opposite character in the alphabet\n",
    "            encrypted_char = chr(219 - ord(char))  # 219 = ord('a') + ord('z')\n",
    "            encrypted_message += encrypted_char\n",
    "        elif char == ' ':  # If it's a space, replace with $\n",
    "            encrypted_message += '$'\n",
    "        else:  # For punctuation marks, keep them unchanged\n",
    "            encrypted_message += char\n",
    "    \n",
    "    return encrypted_message\n",
    "\n",
    "# Input sentence\n",
    "input_sentence = \"I want to become a Data Scientist.\"\n",
    "\n",
    "# Encrypt the message\n",
    "encrypted_sentence = encrypt_message(input_sentence)\n",
    "\n",
    "# Print the encrypted sentence\n",
    "print(\"Encrypted Message:\", encrypted_sentence)\n"
   ]
  },
  {
   "cell_type": "code",
   "execution_count": null,
   "id": "92f7f56d-7a43-4229-b845-cfe299fe13a1",
   "metadata": {},
   "outputs": [],
   "source": []
  }
 ],
 "metadata": {
  "kernelspec": {
   "display_name": "Python 3 (ipykernel)",
   "language": "python",
   "name": "python3"
  },
  "language_info": {
   "codemirror_mode": {
    "name": "ipython",
    "version": 3
   },
   "file_extension": ".py",
   "mimetype": "text/x-python",
   "name": "python",
   "nbconvert_exporter": "python",
   "pygments_lexer": "ipython3",
   "version": "3.12.4"
  }
 },
 "nbformat": 4,
 "nbformat_minor": 5
}
